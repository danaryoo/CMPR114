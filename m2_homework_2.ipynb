{
  "nbformat": 4,
  "nbformat_minor": 0,
  "metadata": {
    "colab": {
      "provenance": [],
      "authorship_tag": "ABX9TyN1v+TPkW8qIosj/ZLL65Zu",
      "include_colab_link": true
    },
    "kernelspec": {
      "name": "python3",
      "display_name": "Python 3"
    },
    "language_info": {
      "name": "python"
    }
  },
  "cells": [
    {
      "cell_type": "markdown",
      "metadata": {
        "id": "view-in-github",
        "colab_type": "text"
      },
      "source": [
        "<a href=\"https://colab.research.google.com/github/danaryoo/CMPR114/blob/main/m2_homework_2.ipynb\" target=\"_parent\"><img src=\"https://colab.research.google.com/assets/colab-badge.svg\" alt=\"Open In Colab\"/></a>"
      ]
    },
    {
      "cell_type": "code",
      "execution_count": null,
      "metadata": {
        "id": "IomQ4VQlcRDu",
        "colab": {
          "base_uri": "https://localhost:8080/"
        },
        "outputId": "04a81d5e-bb8c-4a9a-9806-e42ea4ba9f37"
      },
      "outputs": [
        {
          "output_type": "stream",
          "name": "stdout",
          "text": [
            "Enter the month as a number between 1 - 12:  7\n",
            "The month is in Third Quarter\n"
          ]
        }
      ],
      "source": [
        "#m2 homework #2\n",
        "\n",
        "#Project 1#\n",
        "month = int(input('Enter the month as a number between 1 - 12:  '))\n",
        "\n",
        "if month == 0 or month > 12:\n",
        "  print ('Error. Please input a number between 1 - 12')\n",
        "else:\n",
        "    if 1 <= month <= 3:\n",
        "      print('The month is in First Quarter')\n",
        "    elif 4 <= month <= 6:\n",
        "      print('The month is in Second Quarter')\n",
        "    elif 7 <= month <= 9:\n",
        "      print('The month is in Third Quarter')\n",
        "    elif 10 <= month <= 12:\n",
        "      print('The month is in Fourth Quarter')\n",
        "    else:\n",
        "      print('Re-enter the month')\n"
      ]
    },
    {
      "cell_type": "code",
      "source": [
        "#Project 2#\n",
        "#number of hot dog (10) packages and hot dog bun (8) packages \n",
        "#input = $ of users at the cookout & # of hot dogs per person\n",
        "import math\n",
        "\n",
        "ppl = int(input('How many people will be at the cookout? '))\n",
        "perperson = int(input('How many hot dog(s) are one person consuming? '))\n",
        "total = ppl * perperson\n",
        "hotdog_package = math.ceil(total / 10)\n",
        "bun_package = math.ceil(total / 8)\n",
        "leftover_hotdog = hotdog_package * 10 - total\n",
        "leftover_bun = bun_package * 8 - total\n",
        "\n",
        "if ppl == 0:\n",
        "  print ('Error. Please input how many people will be at the cookout.')\n",
        "else:\n",
        "    print ('You\\'ll need ' + str(hotdog_package) + ' hotdog packages and ' + str(bun_package) + ' bun packages.')\n",
        "    print ('You\\'ll have ' + str(leftover_hotdog) + ' hotdog left and ' + str(leftover_bun) + ' buns left.')\n"
      ],
      "metadata": {
        "id": "TaScJRegHdfR",
        "colab": {
          "base_uri": "https://localhost:8080/"
        },
        "outputId": "9309ce7e-9ca4-43d5-8f1f-241c0ef6539a"
      },
      "execution_count": 2,
      "outputs": [
        {
          "output_type": "stream",
          "name": "stdout",
          "text": [
            "How many people will be at the cookout? 83\n",
            "How many hot dog(s) are one person consuming? 5\n",
            "You'll need 42 hotdog packages and 52 bun packages.\n",
            "You'll have 5 hotdog left and 1 buns left.\n"
          ]
        }
      ]
    },
    {
      "cell_type": "code",
      "source": [
        "#Project 3#\n",
        "package = int(input('How many packages were purchased? '))\n",
        "total = package * 99\n",
        "discount = 0\n",
        "\n",
        "if package < 10:\n",
        "  print('There is no discount available')\n",
        "elif 10 <= package < 20:\n",
        "  discount = total * 0.1\n",
        "  print ('You are qualified for 10% discount which is $' + str(round(discount)) + ' saved.')\n",
        "elif 20 <= package < 50:\n",
        "  discount = total * 0.2\n",
        "  print ('You are qualified for 20% discount which is $' + str(round(discount)) + ' saved.')\n",
        "elif 50 <= package < 100:\n",
        "  discount = total * 0.3\n",
        "  print ('You are qualified for 30% discount which is $' + str(round(discount)) + ' saved.')\n",
        "elif 100 < package:\n",
        "  discount = total * 0.4\n",
        "  print ('You are qualified for 40% discount which is $' + str(round(discount)) + ' saved.')\n",
        "else:\n",
        "  print('Please input a value for packages purchased')\n",
        "\n",
        "total_after_discount = total - discount\n",
        "print ('Your total after discount is $' + str(round(total_after_discount)))"
      ],
      "metadata": {
        "colab": {
          "base_uri": "https://localhost:8080/"
        },
        "id": "iU5GuSHFwcGT",
        "outputId": "612aa797-02fe-48a8-87b8-e6c2c9eec62a"
      },
      "execution_count": 9,
      "outputs": [
        {
          "output_type": "stream",
          "name": "stdout",
          "text": [
            "How many packages were purchased? 46\n",
            "You are qualified for 20% discount which is $911 saved.\n",
            "Your total after discount is $3643\n"
          ]
        }
      ]
    }
  ]
}