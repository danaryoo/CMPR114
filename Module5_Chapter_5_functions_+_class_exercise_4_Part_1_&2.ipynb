{
  "nbformat": 4,
  "nbformat_minor": 0,
  "metadata": {
    "colab": {
      "provenance": [],
      "authorship_tag": "ABX9TyOwbuAp0k8W1Km+aAcPFKtW",
      "include_colab_link": true
    },
    "kernelspec": {
      "name": "python3",
      "display_name": "Python 3"
    },
    "language_info": {
      "name": "python"
    }
  },
  "cells": [
    {
      "cell_type": "markdown",
      "metadata": {
        "id": "view-in-github",
        "colab_type": "text"
      },
      "source": [
        "<a href=\"https://colab.research.google.com/github/danaryoo/CMPR114/blob/main/Module5_Chapter_5_functions_%2B_class_exercise_4_Part_1_%262.ipynb\" target=\"_parent\"><img src=\"https://colab.research.google.com/assets/colab-badge.svg\" alt=\"Open In Colab\"/></a>"
      ]
    },
    {
      "cell_type": "markdown",
      "source": [
        "\n",
        "\n",
        "---\n",
        "\n",
        "\n",
        "Chapter 5 Functions + Class exercise #4 Part 1"
      ],
      "metadata": {
        "id": "A7RS9iLntsED"
      }
    },
    {
      "cell_type": "code",
      "execution_count": 12,
      "metadata": {
        "colab": {
          "base_uri": "https://localhost:8080/"
        },
        "id": "y3vF5uD6tUVT",
        "outputId": "caf3e984-5447-4ed2-fd45-9366d7f241dc"
      },
      "outputs": [
        {
          "output_type": "stream",
          "name": "stdout",
          "text": [
            "How many birds are in Texas?: 5000\n",
            "Texas has 5,000 birds.\n",
            "How many birds are in California?: 8000\n",
            "California has 8,000 birds.\n"
          ]
        }
      ],
      "source": [
        "#Challenge #1\n",
        "def main():\n",
        "  texas()\n",
        "  california()\n",
        "def texas():\n",
        "\tbirds_tx = float(input('How many birds are in Texas?: '))\n",
        "\tprint(f'Texas has {birds_tx:,.0f} birds.')\n",
        "def california():\n",
        "\tbirds_ca = float(input('How many birds are in California?: '))\n",
        "\tprint(f'California has {birds_ca:,.0f} birds.')\n",
        "\n",
        "main()"
      ]
    },
    {
      "cell_type": "code",
      "source": [
        "#Challenge #2\n",
        "def info():\n",
        "  first_name = input('Enter your first name: ')\n",
        "  last_name = input('Enter your last name: ')\n",
        "  address = input('What is your addres?: ')\n",
        "  city = input('What is your city?: ')\n",
        "  state = input('What is the state?: ')\n",
        "  zipcode = input('What is the zip code?: ')\n",
        "  print(f'Your name is {first_name} {last_name}. \\nYour address is {address}, {city} {state} {zipcode}.')\n",
        "\n",
        "info()"
      ],
      "metadata": {
        "id": "Mkvzl6pivgtI",
        "colab": {
          "base_uri": "https://localhost:8080/"
        },
        "outputId": "07249090-e6d0-46d0-c7db-aa33d0a9b141"
      },
      "execution_count": 11,
      "outputs": [
        {
          "output_type": "stream",
          "name": "stdout",
          "text": [
            "Enter your first name: dana\n",
            "Enter your last name: ryoo\n",
            "What is your addres?: 123 any ave\n",
            "What is your city?: los angeles\n",
            "What is the state?: ca\n",
            "What is the zip code?: 90034\n",
            "Your name is dana ryoo. \n",
            "Your address is 123 any ave, los angeles ca 90034.\n"
          ]
        }
      ]
    },
    {
      "cell_type": "code",
      "source": [
        "#Challenge #3\n",
        "def add(num1,num2, num3):\n",
        "\tglobal total\n",
        "\ttotal = num1 + num2 + num3\n",
        "\treturn total \n",
        "\n",
        "add(3,4,5)\n",
        "print(total)"
      ],
      "metadata": {
        "colab": {
          "base_uri": "https://localhost:8080/"
        },
        "id": "IsbJ28vox_CW",
        "outputId": "fd9c4e55-f828-49ff-c043-7f68fbb70962"
      },
      "execution_count": 16,
      "outputs": [
        {
          "output_type": "stream",
          "name": "stdout",
          "text": [
            "12\n"
          ]
        }
      ]
    },
    {
      "cell_type": "code",
      "source": [
        "#Challenge #4\n",
        "def numbers(num1,num2, num3):\n",
        "  global total, avg\n",
        "  num1 = int(input('What is the 1st number?: '))\n",
        "  num2 = int(input('What is the 2nd number?: '))\n",
        "  num3 = int(input('What is the 3rd number?: '))\n",
        "  total = num1 + num2 + num3\n",
        "  avg = total / 3\n",
        "  return total\n",
        "  return avg \n",
        "\n",
        "numbers(3,4,5)\n",
        "print(f'the total of 3 numbers is: {total:,.0f} and the average is {avg:,.0f}')"
      ],
      "metadata": {
        "colab": {
          "base_uri": "https://localhost:8080/"
        },
        "id": "TZUk9Ub_zW3S",
        "outputId": "99dae974-f10e-4dd3-db78-ffc0ae9c2f5b"
      },
      "execution_count": 3,
      "outputs": [
        {
          "output_type": "stream",
          "name": "stdout",
          "text": [
            "What is the 1st number?: 3\n",
            "What is the 2nd number?: 4\n",
            "What is the 3rd number?: 5\n",
            "the total of 3 numbers is: 12 and the average is 4\n"
          ]
        }
      ]
    },
    {
      "cell_type": "code",
      "source": [
        "#Challenge #5\n",
        "#user inputs hours worked and hourly pay\n",
        "#output in print statement\n",
        "\n",
        "def wage():\n",
        "  hr = int(input('Please enter the number of hours you\\'ve worked: '))\n",
        "  pay = int(input('How much do you get paid per hour?: $'))\n",
        "  show_total(hr,pay)\n",
        "\n",
        "def show_total(hr, pay):\n",
        "  total = hr * pay\n",
        "  print(f'The total wage is ${total:,.2f}')\n",
        "\n",
        "wage()"
      ],
      "metadata": {
        "colab": {
          "base_uri": "https://localhost:8080/"
        },
        "id": "B9u5Q3Sh1CZ-",
        "outputId": "abba922b-9cd1-4cf3-f12e-5b66d5c7ac9c"
      },
      "execution_count": 4,
      "outputs": [
        {
          "output_type": "stream",
          "name": "stdout",
          "text": [
            "Please enter the number of hours you've worked: 10\n",
            "How much do you get paid per hour?: $15\n",
            "The total wage is $150.00\n"
          ]
        }
      ]
    },
    {
      "cell_type": "markdown",
      "source": [
        "\n",
        "\n",
        "---\n",
        "\n",
        "Chapter 5 functions + class exercise #4 Part 2"
      ],
      "metadata": {
        "id": "uttVLcdH_o3P"
      }
    },
    {
      "cell_type": "code",
      "source": [
        "#Challenge #1\n",
        "#user inputs distance in kilometers\n",
        "#program calculates it in miles\n",
        "\n",
        "conversion = 0.6214\n",
        "\n",
        "def distance():\n",
        "  km = float(input('Enter the kilometer(s) traveled: ')) \n",
        "  mi = km * conversion\n",
        "  print(f'{km} km = {mi} mi.')\n",
        "\n",
        "distance()"
      ],
      "metadata": {
        "colab": {
          "base_uri": "https://localhost:8080/"
        },
        "id": "oSb2DDSq_yDC",
        "outputId": "c84b9687-e987-4bf9-e77b-2a70a59b2ccf"
      },
      "execution_count": 7,
      "outputs": [
        {
          "output_type": "stream",
          "name": "stdout",
          "text": [
            "Enter the kilometer(s) traveled: 8\n",
            "8.0 km = 4.9712 mi.\n"
          ]
        }
      ]
    },
    {
      "cell_type": "code",
      "source": [
        "#Challenge #2\n",
        "#users enter (1) loan payment (2) insurance (3) gas (4) oil (5) tires (6) maintenance per month\n",
        "#program calculates total monthly cost and total annaul costs\n",
        "\n",
        "def expense(annual):\n",
        "  loan = int(input('How much do you pay for loan on a monthly basis? '))\n",
        "  insurance = int(input('How much do you pay for insurance on a monthly basis? '))\n",
        "  gas = int(input('How much do you pay for gas on a monthly basis? '))\n",
        "  oil = int(input('How much do you pay for oil on a monthly basis? '))\n",
        "  tires = int(input('How much do you pay for tires on a monthly basis? '))\n",
        "  maintenance = int(input('How much do you pay for maintenance on a monthly basis? '))\n",
        "  monthly = loan + insurance + gas + oil + tires + maintenance\n",
        "  annually = monthly * annual\n",
        "  return monthly, annually\n",
        "\n",
        "annual = 12\n",
        "monthly, annually = expense(annual)\n",
        "print(f'Monthly payment: ${monthly:,.2f} \\nAnnual payment: ${annually:,.2f}')"
      ],
      "metadata": {
        "colab": {
          "base_uri": "https://localhost:8080/"
        },
        "id": "nd1mgqJsD6cJ",
        "outputId": "d772c33d-92fe-4f5d-8f0c-d641eaecaa48"
      },
      "execution_count": 2,
      "outputs": [
        {
          "output_type": "stream",
          "name": "stdout",
          "text": [
            "How much do you pay for loan on a monthly basis? 100\n",
            "How much do you pay for insurance on a monthly basis? 100\n",
            "How much do you pay for gas on a monthly basis? 50\n",
            "How much do you pay for oil on a monthly basis? 50\n",
            "How much do you pay for tires on a monthly basis? 25\n",
            "How much do you pay for maintenance on a monthly basis? 30\n",
            "Monthly payment: $355.00 \n",
            "Annual payment: $4,260.00\n"
          ]
        }
      ]
    }
  ]
}