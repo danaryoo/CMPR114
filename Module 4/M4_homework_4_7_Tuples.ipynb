{
  "nbformat": 4,
  "nbformat_minor": 0,
  "metadata": {
    "colab": {
      "provenance": [],
      "authorship_tag": "ABX9TyOjE0fcF8sIyRfvFZSQmSn0",
      "include_colab_link": true
    },
    "kernelspec": {
      "name": "python3",
      "display_name": "Python 3"
    },
    "language_info": {
      "name": "python"
    }
  },
  "cells": [
    {
      "cell_type": "markdown",
      "metadata": {
        "id": "view-in-github",
        "colab_type": "text"
      },
      "source": [
        "<a href=\"https://colab.research.google.com/github/danaryoo/CMPR114/blob/main/M4_homework_4_7_Tuples.ipynb\" target=\"_parent\"><img src=\"https://colab.research.google.com/assets/colab-badge.svg\" alt=\"Open In Colab\"/></a>"
      ]
    },
    {
      "cell_type": "markdown",
      "source": [
        "M4 homework #4.7\n",
        "\n",
        "\n",
        "---\n",
        "\n"
      ],
      "metadata": {
        "id": "oEJA7S0aWv5I"
      }
    },
    {
      "cell_type": "code",
      "execution_count": 11,
      "metadata": {
        "colab": {
          "base_uri": "https://localhost:8080/"
        },
        "id": "W_9hUWKCWc8v",
        "outputId": "ad625ee0-c74e-40b4-dc79-5ed89f27bf80"
      },
      "outputs": [
        {
          "output_type": "stream",
          "name": "stdout",
          "text": [
            "The sum of the tuple is 312\n",
            "The largest number in the tuple is 123\n"
          ]
        }
      ],
      "source": [
        "test_tup = (15,20,123,47,26,81)\n",
        "#Problem 1\n",
        "tuple_sum = 0\n",
        "i = 0\n",
        "while i < len(test_tup):\n",
        "  tuple_sum += test_tup[i]\n",
        "  i+=1\n",
        "print(f'The sum of the tuple is {tuple_sum}')\n",
        "#Problem 2\n",
        "print (f'The largest number in the tuple is {max(test_tup)}')"
      ]
    },
    {
      "cell_type": "code",
      "source": [
        "test_tup2 = ([17,28], [93,11],[20,17])\n",
        "#Problem 3\n",
        "testtup2_sum = 0\n",
        "\n",
        "for array in test_tup2:\n",
        "  testtup2_sum += sum(array)\n",
        "\n",
        "print(f'The sum is {testtup2_sum}')"
      ],
      "metadata": {
        "colab": {
          "base_uri": "https://localhost:8080/"
        },
        "id": "7ooADbe-XrJJ",
        "outputId": "7694a1d5-3d67-4d2b-f596-ac4ace2e5066"
      },
      "execution_count": 4,
      "outputs": [
        {
          "output_type": "stream",
          "name": "stdout",
          "text": [
            "The sum is 186\n"
          ]
        }
      ]
    },
    {
      "cell_type": "code",
      "source": [
        "input_tup = ([2,20], [44,1],[3,13])\n",
        "#Problem 4\n",
        "sums = [sum(nested_list) for nested_list in input_tup] #step 1: create a tuple that contains a summation of each list\n",
        "sorted_sums = sorted(sums) #step 2: sort the tuple from step 1\n",
        "solution = [] #step 3: creating a list that finds the location of step 1's list but in the order of the step 2's tuple\n",
        "for sorted_sum in sorted_sums:\n",
        "  index_tup = sums.index(sorted_sum)\n",
        "  solution.append(input_tup[index_tup])\n",
        "print(tuple(solution))"
      ],
      "metadata": {
        "colab": {
          "base_uri": "https://localhost:8080/"
        },
        "id": "lV0YI7Cwa9Si",
        "outputId": "b3533339-431b-483c-851c-d398fa6d9d65"
      },
      "execution_count": 11,
      "outputs": [
        {
          "output_type": "stream",
          "name": "stdout",
          "text": [
            "([3, 13], [2, 20], [44, 1])\n"
          ]
        }
      ]
    }
  ]
}