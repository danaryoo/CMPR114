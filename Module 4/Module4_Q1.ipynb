{
  "nbformat": 4,
  "nbformat_minor": 0,
  "metadata": {
    "colab": {
      "provenance": [],
      "authorship_tag": "ABX9TyOZ//gIUBRYRS9URJAMBh2H",
      "include_colab_link": true
    },
    "kernelspec": {
      "name": "python3",
      "display_name": "Python 3"
    },
    "language_info": {
      "name": "python"
    }
  },
  "cells": [
    {
      "cell_type": "markdown",
      "metadata": {
        "id": "view-in-github",
        "colab_type": "text"
      },
      "source": [
        "<a href=\"https://colab.research.google.com/github/danaryoo/CMPR114/blob/main/Module_4_Q1.ipynb\" target=\"_parent\"><img src=\"https://colab.research.google.com/assets/colab-badge.svg\" alt=\"Open In Colab\"/></a>"
      ]
    },
    {
      "cell_type": "code",
      "execution_count": 3,
      "metadata": {
        "colab": {
          "base_uri": "https://localhost:8080/"
        },
        "id": "tbip6XDW8pcT",
        "outputId": "a26a4d1a-8b7c-4204-fab3-f4f78b99fff8"
      },
      "outputs": [
        {
          "output_type": "stream",
          "name": "stdout",
          "text": [
            "Please enter your gross salary: 80000\n",
            "The total salary with 10% commission is $88,000.00.\n"
          ]
        }
      ],
      "source": [
        "#Project #1\n",
        "#user enters gross salary (80,000)\n",
        "#program adds 10% to the gross salary \n",
        "salary = float(input('Please enter your gross salary: '))\n",
        "total = salary * 1.1\n",
        "print(f'The total salary with 10% commission is ${total:,.2f}.')"
      ]
    },
    {
      "cell_type": "code",
      "source": [
        "#Project #2\n",
        "#user enters 5 scores (60, 70, 80,90)\n",
        "#program sums the scores and averages\n",
        "\n",
        "score1 = float(input('Please enter test score 1: '))\n",
        "score2 = float(input('Please enter test score 2: '))\n",
        "score3 = float(input('Please enter test score 3: '))\n",
        "score4 = float(input('Please enter test score 4: '))\n",
        "\n",
        "sum = score1 + score2 + score3 + score4\n",
        "avg = sum / 4\n",
        "\n",
        "print(f'The sum of test scores are {sum}.\\nThe average of test scores are {avg}.')"
      ],
      "metadata": {
        "colab": {
          "base_uri": "https://localhost:8080/"
        },
        "id": "3AYkzDfZ-Y-J",
        "outputId": "5f516161-f7a8-400f-898f-3af94e3b07d1"
      },
      "execution_count": 12,
      "outputs": [
        {
          "output_type": "stream",
          "name": "stdout",
          "text": [
            "Please enter test score 1: 60\n",
            "Please enter test score 2: 70\n",
            "Please enter test score 3: 80\n",
            "Please enter test score 4: 90\n",
            "The sum of test scores are 300.0.\n",
            "The average of test scores are 75.0.\n"
          ]
        }
      ]
    },
    {
      "cell_type": "code",
      "source": [
        "#Project #3\n",
        "#user gives first name, last name, age\n",
        "#use criteria\n",
        "\n",
        "FirstName = str(input('Please enter your First Name: '))\n",
        "LastName = str(input('Please enter your Last Name: '))\n",
        "Age = int(input('Please enter your age: '))\n",
        "\n",
        "if 0 >= Age:\n",
        "  print(f'Invalid entry, Please enter a number greater than 0.')\n",
        "else:\n",
        "  print(f'{FirstName} {LastName}, {Age}')"
      ],
      "metadata": {
        "colab": {
          "base_uri": "https://localhost:8080/"
        },
        "id": "sK54RKZZACz6",
        "outputId": "3790a750-9f1e-483c-9f68-d848a3fff7e7"
      },
      "execution_count": 21,
      "outputs": [
        {
          "output_type": "stream",
          "name": "stdout",
          "text": [
            "Please enter your First Name: Jason\n",
            "Please enter your Last Name: Sim\n",
            "Please enter your age: 45\n",
            "Jason Sim, 45\n"
          ]
        }
      ]
    },
    {
      "cell_type": "code",
      "source": [
        "#Project #4\n",
        "#user inputs sale\n",
        "#program displays commission\n",
        "\n",
        "another = 'y'\n",
        "\n",
        "while another == 'y':\n",
        "  sales = float(input('Please input your sales: '))\n",
        "  if sales < 50000 or sales > 100000:\n",
        "    print('Please enter a valid value between $50,000 - $100,000.')\n",
        "  elif sales <= 70000:\n",
        "    print('Your commission is 10%')\n",
        "  elif sales <= 90000:\n",
        "    print('Your commission is 20%')\n",
        "  elif sales <= 100000:\n",
        "    print('Your commission is 30%')\n",
        "  else:\n",
        "    print('Please enter a valid value.')\n",
        "  another = input('Would you like to enter another sales? (y/n) ')"
      ],
      "metadata": {
        "colab": {
          "base_uri": "https://localhost:8080/"
        },
        "id": "G3amOPtwCPpA",
        "outputId": "6b4d80f4-25b7-42e7-d6be-e8a14d85de41"
      },
      "execution_count": 54,
      "outputs": [
        {
          "name": "stdout",
          "output_type": "stream",
          "text": [
            "Please input your sales: 50000\n",
            "Your commission is  10%\n",
            "Would you like to enter another sales? (y/n) y\n",
            "Please input your sales: 80000\n",
            "Your commission is 20%\n",
            "Would you like to enter another sales? (y/n) y\n",
            "Please input your sales: 95000\n",
            "Your commission is 30%\n",
            "Would you like to enter another sales? (y/n) n\n"
          ]
        }
      ]
    },
    {
      "cell_type": "code",
      "source": [
        "#Project #5\n",
        "#user inputs sale\n",
        "#program salary * commission = total\n",
        "\n",
        "comm_cal = 'y'\n",
        "salary1 = 70000\n",
        "salary2 = 80000\n",
        "salary3 = 90000\n",
        "\n",
        "while comm_cal == 'y':\n",
        "  sales = float(input('Please input your sales: '))\n",
        "  if sales < 50000 or sales > 100000:\n",
        "    print('Please enter a valid value between $50,000 - $100,000.')\n",
        "  elif sales <= 70000:\n",
        "    total10 = salary1 * 1.1\n",
        "    print(f'Your total is ${total10:,.2f}.')\n",
        "  elif sales <= 90000:\n",
        "    total20 = salary2 * 1.2\n",
        "    print(f'Your total is ${total20:,.2f}.')\n",
        "  elif sales <= 100000:\n",
        "    total30 = salary3 * 1.3\n",
        "    print(f'Your total is ${total30:,.2f}.')\n",
        "  else:\n",
        "    print('Please enter a valid value.')\n",
        "  comm_cal = input('Would you like to enter another sales? (y/n) ')"
      ],
      "metadata": {
        "colab": {
          "base_uri": "https://localhost:8080/"
        },
        "id": "81FTbcnyEfOJ",
        "outputId": "c4f765b2-e7ac-41a8-8bd4-6dafe8d09aaf"
      },
      "execution_count": 57,
      "outputs": [
        {
          "name": "stdout",
          "output_type": "stream",
          "text": [
            "Please input your sales: 65000\n",
            "Your total is $77,000.00.\n",
            "Would you like to enter another sales? (y/n) y\n",
            "Please input your sales: 76000\n",
            "Your total is $96,000.00.\n",
            "Would you like to enter another sales? (y/n) y\n",
            "Please input your sales: 98000\n",
            "Your total is $117,000.00.\n",
            "Would you like to enter another sales? (y/n) n\n"
          ]
        }
      ]
    },
    {
      "cell_type": "code",
      "source": [
        "#Project #6\n",
        "#user enters 4 scores\n",
        "#program outputs letter grade based on the avg of 4 scores\n",
        "#while loop to check if avg > 100, re-enter if it is\n",
        "\n",
        "another = 'y'\n",
        "\n",
        "while another == 'y':\n",
        "  score1 = float(input('Enter score #1: '))\n",
        "  score2 = float(input('Enter score #2: '))\n",
        "  score3 = float(input('Enter score #3: '))\n",
        "  score4 = float(input('Enter score #4: '))\n",
        "  avg = (score1 + score2 + score3 + score4) / 4\n",
        "  if avg < 0 or avg > 100:\n",
        "    print('Please re-enter 4 valid test scores')\n",
        "  elif avg < 60:\n",
        "    print('Your letter grade is F')\n",
        "  elif avg <= 69:\n",
        "    print('Your letter grade is D')\n",
        "  elif avg <= 79:\n",
        "    print('Your letter grade is C')\n",
        "  elif avg <= 89:\n",
        "    print('Your letter grade is B')\n",
        "  elif avg <=100:\n",
        "    print('Your letter grade is A')\n",
        "  else:\n",
        "    print('Please enter valid test scores')\n",
        "  another = input('Would you like to calculate another set of 4 test scores? (y/n) ')"
      ],
      "metadata": {
        "colab": {
          "base_uri": "https://localhost:8080/"
        },
        "id": "P_cvzSfPE602",
        "outputId": "d279dc54-7f2e-4632-8c92-34ebfd50fc51"
      },
      "execution_count": 58,
      "outputs": [
        {
          "name": "stdout",
          "output_type": "stream",
          "text": [
            "Enter score #1: 90\n",
            "Enter score #2: 95\n",
            "Enter score #3: 93\n",
            "Enter score #4: 97\n",
            "Your letter grade is A\n",
            "Would you like to calculate another set of 4 test scores? (y/n) y\n",
            "Enter score #1: 100\n",
            "Enter score #2: 104\n",
            "Enter score #3: 110\n",
            "Enter score #4: 107\n",
            "Please re-enter 4 valid test scores\n",
            "Would you like to calculate another set of 4 test scores? (y/n) n\n"
          ]
        }
      ]
    },
    {
      "cell_type": "code",
      "source": [
        "#Project #7\n",
        "#for loop to sum numbers 1 - 10\n",
        "\n",
        "sum = 0\n",
        "for i in range(1, 10+1):\n",
        "  sum+=i\n",
        "print(f'The sum is {sum}')"
      ],
      "metadata": {
        "colab": {
          "base_uri": "https://localhost:8080/"
        },
        "id": "cqZFyYpyFXcm",
        "outputId": "a67ee787-706e-4d4c-8f71-7442ae619d02"
      },
      "execution_count": 59,
      "outputs": [
        {
          "output_type": "stream",
          "name": "stdout",
          "text": [
            "The sum is 55\n"
          ]
        }
      ]
    }
  ]
}
