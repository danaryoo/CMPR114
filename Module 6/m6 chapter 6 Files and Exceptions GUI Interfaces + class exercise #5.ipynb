{
 "cells": [
  {
   "cell_type": "code",
   "execution_count": null,
   "id": "5570f98f",
   "metadata": {},
   "outputs": [],
   "source": [
    "#this program writes to a File\n",
    "def write():\n",
    "    outFile = open('myFile.txt','w') #writing to the default directory\n",
    "    outfile1 = open('C:\\\\Users\\\\techi\\\\Downloads\\\\File\\\\myFile.txt','w') #writing to a specific directory\n",
    "    \n",
    "    outFile.write('Jason\\n')\n",
    "    outFile.write('Jill\\n')\n",
    "    outFile.write('Jake\\n')\n",
    "    \n",
    "    outFile1.write('Jason\\n')\n",
    "    outFile1.write('Jill\\n')\n",
    "    outFile1.write('Jake\\n')\n",
    "    \n",
    "    outFile.close()\n",
    "    outFile1.close()\n",
    "    \n",
    "    print('the names have been recorded')\n",
    "\n",
    "write()\n",
    "\n"
   ]
  }
 ],
 "metadata": {
  "kernelspec": {
   "display_name": "Python 3 (ipykernel)",
   "language": "python",
   "name": "python3"
  },
  "language_info": {
   "codemirror_mode": {
    "name": "ipython",
    "version": 3
   },
   "file_extension": ".py",
   "mimetype": "text/x-python",
   "name": "python",
   "nbconvert_exporter": "python",
   "pygments_lexer": "ipython3",
   "version": "3.9.12"
  }
 },
 "nbformat": 4,
 "nbformat_minor": 5
}
