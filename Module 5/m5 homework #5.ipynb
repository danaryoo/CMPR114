{
 "cells": [
  {
   "cell_type": "code",
   "execution_count": 16,
   "id": "0e2eb282",
   "metadata": {},
   "outputs": [
    {
     "name": "stdout",
     "output_type": "stream",
     "text": [
      "How much is your property worth?: 70000\n",
      "The assessment value is $42,000.00 and the property tax is $302.40\n"
     ]
    }
   ],
   "source": [
    "#Project #1\n",
    "#user inputs actual value\n",
    "#program outputs assessment value + property tax\n",
    "def appraisal():\n",
    "    real_value = float(input('How much is your property worth?: '))\n",
    "    assessment_value = real_value * 0.60\n",
    "    property_tax = (assessment_value / 100) * 0.72\n",
    "    print (f'The assessment value is ${assessment_value:,.2f} and the property tax is ${property_tax:,.2f}')\n",
    "    \n",
    "appraisal()"
   ]
  },
  {
   "cell_type": "code",
   "execution_count": 7,
   "id": "db5eb164",
   "metadata": {},
   "outputs": [
    {
     "name": "stdout",
     "output_type": "stream",
     "text": [
      "How many Class A tickets were sold? 8\n",
      "How many Class B tickets were sold? 7\n",
      "How many Class C tickets were sold? 10\n",
      "The total income is $365.00\n"
     ]
    }
   ],
   "source": [
    "#Project #2\n",
    "#3 classes\n",
    "#A = $20, B = $15, C = $10\n",
    "#user inputs how much ticket is sold for each class\n",
    "#program outputs total income\n",
    "\n",
    "def income():\n",
    "    classA = float(input('How many Class A tickets were sold? '))\n",
    "    classB = float(input('How many Class B tickets were sold? '))\n",
    "    classC = float(input('How many Class C tickets were sold? '))\n",
    "    total = (classA*20) + (classB*15) + (classC*10)\n",
    "    print(f'The total income is ${total:,.2f}')\n",
    "\n",
    "income()"
   ]
  },
  {
   "cell_type": "code",
   "execution_count": 9,
   "id": "f5b4b696",
   "metadata": {},
   "outputs": [
    {
     "name": "stdout",
     "output_type": "stream",
     "text": [
      "What was this month's total sale?: 60000\n",
      "The state tax is $3,000.00. The county tax is $1,500.00. The total sales tax is $4,500.00\n"
     ]
    }
   ],
   "source": [
    "#Project #3\n",
    "#state sales tax = 5%\n",
    "#county sales tax = 2.5%\n",
    "#user enters total sales for th  month\n",
    "#program outputs (1) county sales tax (2) state sales tax (3) total sales tax (county + state)\n",
    "\n",
    "def tax():\n",
    "    sale = float(input('What was this month\\'s total sale?: '))\n",
    "    state_tax = sale * 0.05\n",
    "    county_tax = sale * 0.025\n",
    "    total_tax = state_tax + county_tax\n",
    "    print(f'The state tax is ${state_tax:,.2f}. The county tax is ${county_tax:,.2f}. The total sales tax is ${total_tax:,.2f}')\n",
    "    \n",
    "tax()"
   ]
  }
 ],
 "metadata": {
  "kernelspec": {
   "display_name": "Python 3 (ipykernel)",
   "language": "python",
   "name": "python3"
  },
  "language_info": {
   "codemirror_mode": {
    "name": "ipython",
    "version": 3
   },
   "file_extension": ".py",
   "mimetype": "text/x-python",
   "name": "python",
   "nbconvert_exporter": "python",
   "pygments_lexer": "ipython3",
   "version": "3.9.12"
  }
 },
 "nbformat": 4,
 "nbformat_minor": 5
}
