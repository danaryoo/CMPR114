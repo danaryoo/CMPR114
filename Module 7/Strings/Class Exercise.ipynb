{
 "cells": [
  {
   "cell_type": "code",
   "execution_count": 3,
   "metadata": {},
   "outputs": [
    {
     "ename": "ModuleNotFoundError",
     "evalue": "No module named 'login'",
     "output_type": "error",
     "traceback": [
      "\u001b[1;31m---------------------------------------------------------------------------\u001b[0m",
      "\u001b[1;31mModuleNotFoundError\u001b[0m                       Traceback (most recent call last)",
      "\u001b[1;32mc:\\Users\\dana.ryoo\\OneDrive - The Trade Desk\\Documents\\Github\\CMPR114\\Module 7\\Class Exercise.ipynb Cell 1\u001b[0m in \u001b[0;36m<cell line: 39>\u001b[1;34m()\u001b[0m\n\u001b[0;32m     <a href='vscode-notebook-cell:/c%3A/Users/dana.ryoo/OneDrive%20-%20The%20Trade%20Desk/Documents/Github/CMPR114/Module%207/Class%20Exercise.ipynb#W1sZmlsZQ%3D%3D?line=35'>36</a>\u001b[0m       is_valid \u001b[39m=\u001b[39m \u001b[39mFalse\u001b[39;00m\n\u001b[0;32m     <a href='vscode-notebook-cell:/c%3A/Users/dana.ryoo/OneDrive%20-%20The%20Trade%20Desk/Documents/Github/CMPR114/Module%207/Class%20Exercise.ipynb#W1sZmlsZQ%3D%3D?line=36'>37</a>\u001b[0m   \u001b[39mreturn\u001b[39;00m is_valid\n\u001b[1;32m---> <a href='vscode-notebook-cell:/c%3A/Users/dana.ryoo/OneDrive%20-%20The%20Trade%20Desk/Documents/Github/CMPR114/Module%207/Class%20Exercise.ipynb#W1sZmlsZQ%3D%3D?line=38'>39</a>\u001b[0m \u001b[39mimport\u001b[39;00m \u001b[39mlogin\u001b[39;00m\n\u001b[0;32m     <a href='vscode-notebook-cell:/c%3A/Users/dana.ryoo/OneDrive%20-%20The%20Trade%20Desk/Documents/Github/CMPR114/Module%207/Class%20Exercise.ipynb#W1sZmlsZQ%3D%3D?line=40'>41</a>\u001b[0m \u001b[39mdef\u001b[39;00m \u001b[39mmain\u001b[39m():\n\u001b[0;32m     <a href='vscode-notebook-cell:/c%3A/Users/dana.ryoo/OneDrive%20-%20The%20Trade%20Desk/Documents/Github/CMPR114/Module%207/Class%20Exercise.ipynb#W1sZmlsZQ%3D%3D?line=41'>42</a>\u001b[0m   \u001b[39m#get a massword from the user\u001b[39;00m\n\u001b[0;32m     <a href='vscode-notebook-cell:/c%3A/Users/dana.ryoo/OneDrive%20-%20The%20Trade%20Desk/Documents/Github/CMPR114/Module%207/Class%20Exercise.ipynb#W1sZmlsZQ%3D%3D?line=42'>43</a>\u001b[0m   password \u001b[39m=\u001b[39m \u001b[39minput\u001b[39m(\u001b[39m'\u001b[39m\u001b[39mEnter your password: \u001b[39m\u001b[39m'\u001b[39m)\n",
      "\u001b[1;31mModuleNotFoundError\u001b[0m: No module named 'login'"
     ]
    }
   ],
   "source": [
    "#Class Exercise #1\n",
    "#The get_login_name function accepts a first name, last name, and ID # as arguments.\n",
    "#It returns a system login name\n",
    "\n",
    "def get_login_name(first, last, idnumber):\n",
    "  #Get the first 3 letters of the first name\n",
    "  #if the name is less than 3 characters, the slice will return the entire first name\n",
    "  set1 = first[0:3]\n",
    "  set2 = last[0:3] #Exercise #2 cont. of Exercise #1\n",
    "  set3 = idnumber[-3:]\n",
    "  login_name = set1 + set2 + set3\n",
    "  return login_name\n",
    "\n",
    "#valid_pass func accepts a password as an argument and returns either T or F\n",
    "#A valid passord must be at least 7 characters, one uppercase, one lowercase, one digit\n",
    "def valid_password(password):\n",
    "  correct_length = False #set bollean variables to false\n",
    "  has_uppercase = False\n",
    "  has_lowercase = False\n",
    "  has_digit = False\n",
    "  #begin the validation. start by testing the password length\n",
    "  if len(password) >=7:\n",
    "    correct_length = True\n",
    "    #test each character and set the appropriate flag when a required character is found\n",
    "    for ch in password:\n",
    "      if ch.isupper():\n",
    "        has_uppercase = True\n",
    "      if ch.islower():\n",
    "        has_lowercase = True\n",
    "      if ch.isdigit():\n",
    "        has_digit = True\n",
    "        #determine whether all of the requirements are met\n",
    "    if correct_length and has_uppercase and has_lowercase and has_digit:\n",
    "      is_valid = True\n",
    "    else:\n",
    "      is_valid = False\n",
    "  return is_valid\n",
    "\n",
    "import login\n",
    "\n",
    "def main():\n",
    "  #get a massword from the user\n",
    "  password = input('Enter your password: ')\n",
    "  #validate the password\n",
    "  while not login.valid_password(password):\n",
    "    print('The password is not valid.')\n",
    "    passord = input('Enter your password: ')\n",
    "  print ('This is a valid password.')\n",
    "\n",
    "if __name__ =='__main__':\n",
    "  main()"
   ]
  },
  {
   "cell_type": "code",
   "execution_count": 2,
   "metadata": {},
   "outputs": [
    {
     "ename": "SyntaxError",
     "evalue": "invalid syntax (3330537371.py, line 22)",
     "output_type": "error",
     "traceback": [
      "\u001b[1;36m  Input \u001b[1;32mIn [2]\u001b[1;36m\u001b[0m\n\u001b[1;33m    if__name__ == '__main__':\u001b[0m\n\u001b[1;37m                             ^\u001b[0m\n\u001b[1;31mSyntaxError\u001b[0m\u001b[1;31m:\u001b[0m invalid syntax\n"
     ]
    }
   ],
   "source": [
    "#Class Exercise #3\n",
    "#This program demostrates how to tokenize strings\n",
    "\n",
    "def main():\n",
    "    #strings to tokenize\n",
    "    str1 = 'one two three four'\n",
    "    str2 = '10:20:30:40:50'\n",
    "    str3 = 'a/b/c/d/e/f'\n",
    "    #display the token in each string\n",
    "    display_tokens(str1,' ')\n",
    "    print()\n",
    "    display_tokens(str2, ':')\n",
    "    print()\n",
    "    display_tokens(str3,'/')\n",
    "\n",
    "def display_tokens(data, delimiter):\n",
    "    tokens = data.split(delimiter)\n",
    "    for item in tokens:\n",
    "        print(f'Token: {item}')\n",
    "\n",
    "#execute the main function\n",
    "if__name__ == '__main__':\n",
    "    main()"
   ]
  },
  {
   "cell_type": "code",
   "execution_count": null,
   "metadata": {},
   "outputs": [],
   "source": [
    "#Class Exercise #4\n",
    "#This program reads test scores from a csv file + calculates each student's test average\n",
    "def main():\n",
    "    csv_file = open('test_scores.csv','r') #open the file\n",
    "    lines = csv_file.readlines() #red the file's lines into a list\n",
    "    csv_file.close() #close the file\n",
    "    for line in lines: #process the lines\n",
    "        tokens = line.split(',') #get the test scores as tokens\n",
    "        total = 0.0 #calculate the total of the test scores\n",
    "        for token in tokens:\n",
    "            total += float(token)\n",
    "        average = total / len(tokens)\n",
    "        print(f'Average: {average}')\n",
    "\n",
    "#execute the main function\n",
    "if __name__ == '__main__':\n",
    "    main()"
   ]
  },
  {
   "cell_type": "code",
   "execution_count": null,
   "metadata": {},
   "outputs": [],
   "source": [
    "#Class Exercise #5\n",
    "#This program counts the # of times the letter T (upper or lower) appears in a string\n",
    "def main():\n",
    "    count = 0 #create a variable to hold the counnt (variable must start with 0)\n",
    "    my_string = input('Enter a sentence: ') #get a string from the user\n",
    "    for ch in my_string: #count the Ts\n",
    "        if ch == 'T' or ch == 't':\n",
    "            count+= 1\n",
    "    print(f'The letter T appears {count} times.') #print the result \n",
    "\n",
    "if__name__ == '__main__':\n",
    "    main()"
   ]
  }
 ],
 "metadata": {
  "kernelspec": {
   "display_name": "base",
   "language": "python",
   "name": "python3"
  },
  "language_info": {
   "codemirror_mode": {
    "name": "ipython",
    "version": 3
   },
   "file_extension": ".py",
   "mimetype": "text/x-python",
   "name": "python",
   "nbconvert_exporter": "python",
   "pygments_lexer": "ipython3",
   "version": "3.9.12"
  },
  "orig_nbformat": 4
 },
 "nbformat": 4,
 "nbformat_minor": 2
}
