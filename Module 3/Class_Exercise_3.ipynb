{
  "nbformat": 4,
  "nbformat_minor": 0,
  "metadata": {
    "colab": {
      "provenance": [],
      "authorship_tag": "ABX9TyOXlG0lFSAARqJJ7916G233",
      "include_colab_link": true
    },
    "kernelspec": {
      "name": "python3",
      "display_name": "Python 3"
    },
    "language_info": {
      "name": "python"
    }
  },
  "cells": [
    {
      "cell_type": "markdown",
      "metadata": {
        "id": "view-in-github",
        "colab_type": "text"
      },
      "source": [
        "<a href=\"https://colab.research.google.com/github/danaryoo/CMPR114/blob/main/Class_Exercise_3.ipynb\" target=\"_parent\"><img src=\"https://colab.research.google.com/assets/colab-badge.svg\" alt=\"Open In Colab\"/></a>"
      ]
    },
    {
      "cell_type": "markdown",
      "source": [
        "Class Exercise #3\n",
        "\n",
        "\n",
        "---\n",
        "\n",
        "\n",
        "m3 chapter 4 loops + class exercise #3 Part 1"
      ],
      "metadata": {
        "id": "fZftJkDWmdOA"
      }
    },
    {
      "cell_type": "code",
      "execution_count": 4,
      "metadata": {
        "colab": {
          "base_uri": "https://localhost:8080/"
        },
        "id": "Rb9hs-lzmKU_",
        "outputId": "6720493a-58bb-4c16-994d-b47d4ae34d26"
      },
      "outputs": [
        {
          "name": "stdout",
          "output_type": "stream",
          "text": [
            "Enter the 1st temperature under 102.5: 60\n",
            "Enter the 2nd temperature under 102.5: 70\n",
            "Enter the 3rd temperature under 102.5: 80\n",
            "Enter the 4th temperature under 102.5: 90\n",
            "The sum of 4 temperature is 300.0F and average i 75.0F\n",
            "Do you want to calculate for another? (Enter y for yes): n\n"
          ]
        }
      ],
      "source": [
        "#Challenge Exercise #1\n",
        "keep_going = 'y'\n",
        "\n",
        "while keep_going == 'y':\n",
        "  temp1 = float(input('Enter the 1st temperature under 102.5: '))\n",
        "  temp2 = float(input('Enter the 2nd temperature under 102.5: '))\n",
        "  temp3 = float(input('Enter the 3rd temperature under 102.5: '))\n",
        "  temp4 = float(input('Enter the 4th temperature under 102.5: '))\n",
        "  sum = temp1 + temp2 + temp3 + temp4\n",
        "  avg = sum / 4\n",
        "  print(f'The sum of 4 temperature is {sum}F and average i {avg}F')\n",
        "  keep_going = input('Do you want to calculate for another? ' + '(Enter y for yes): ')"
      ]
    },
    {
      "cell_type": "code",
      "source": [
        "#Challenge Exercise #2\n",
        "comm_cal = 'y'\n",
        "\n",
        "while comm_cal == 'y':\n",
        "  sales1 = float(input('Enter the 1st sales: '))\n",
        "  comm_rate1 = float(input('Enter the 1st commission: '))\n",
        "  sales2 = float(input('Enter the 2nd sales: '))\n",
        "  comm_rate2 = float(input('Enter the 2nd commission: '))\n",
        "  sales3 = float(input('Enter the 3rd sales: '))\n",
        "  comm_rate3 = float(input('Enter the 3rd commission: '))\n",
        "  sales4 = float(input('Enter the 4th sales: '))\n",
        "  comm_rate4 = float(input('Enter the 4th commission: '))\n",
        "  sum = (sales1 * comm_rate1)+(sales2*comm_rate2)+(sales3*comm_rate3)+(sales4*comm_rate4)\n",
        "  print(f'The sum of 4 sales and commission rate is ${sum:,.2f}.')\n",
        "  comm_cal = input('Do you want to calculate another set of 4?' + '(Enter y for yes): ')"
      ],
      "metadata": {
        "colab": {
          "base_uri": "https://localhost:8080/"
        },
        "id": "J8LhDlD15mth",
        "outputId": "e4ff06e4-43d0-4c1f-ffc8-0797bb71e063"
      },
      "execution_count": 14,
      "outputs": [
        {
          "name": "stdout",
          "output_type": "stream",
          "text": [
            "Enter the 1st sales: 1000\n",
            "Enter the 1st commission: 12\n",
            "Enter the 2nd sales: 2000\n",
            "Enter the 2nd commission: 12\n",
            "Enter the 3rd sales: 3000\n",
            "Enter the 3rd commission: 12\n",
            "Enter the 4th sales: 4000\n",
            "Enter the 4th commission: 12\n",
            "The sum of 4 sales and commission rate is $120,000.00.\n",
            "Do you want to calculate another set of 4?(Enter y for yes): n\n"
          ]
        }
      ]
    },
    {
      "cell_type": "code",
      "source": [
        "#Challenge Exercise #3\n",
        "print('I will print odd and even number in two columns to a maximum of 10')\n",
        "for num in range(1, 10 +1):\n",
        "  if num % 2 != 0: #checking for ood\n",
        "    print(num, end = \" \")\n",
        "  else:\n",
        "    print(num)"
      ],
      "metadata": {
        "colab": {
          "base_uri": "https://localhost:8080/"
        },
        "id": "UmNVABnE9-4h",
        "outputId": "646efb9a-b39c-4e74-e6da-68da935ba6d4"
      },
      "execution_count": 21,
      "outputs": [
        {
          "output_type": "stream",
          "name": "stdout",
          "text": [
            "I will print odd and even number in two columns to a maximum of 10\n",
            "1 2\n",
            "3 4\n",
            "5 6\n",
            "7 8\n",
            "9 10\n"
          ]
        }
      ]
    },
    {
      "cell_type": "code",
      "source": [
        "#Challenge Exercise #4\n",
        "for first_name in ['Dana']:\n",
        "  for last_name in ['Ryoo']:\n",
        "    print(f'Your full name is {first_name} {last_name}')"
      ],
      "metadata": {
        "colab": {
          "base_uri": "https://localhost:8080/"
        },
        "id": "wDMUzPq4CEHV",
        "outputId": "7cc26e45-2f7d-4c15-9a3d-0227539f0f86"
      },
      "execution_count": 31,
      "outputs": [
        {
          "output_type": "stream",
          "name": "stdout",
          "text": [
            "Your full name is Dana Ryoo\n"
          ]
        }
      ]
    },
    {
      "cell_type": "code",
      "source": [
        "#Challenge Exercise #5\n",
        "for i in range(10):\n",
        "  print('Hello world')"
      ],
      "metadata": {
        "colab": {
          "base_uri": "https://localhost:8080/"
        },
        "id": "TkQYvmZ9DC7m",
        "outputId": "e15d6c3b-4e05-4557-bbb5-7a93b047b6c1"
      },
      "execution_count": 27,
      "outputs": [
        {
          "output_type": "stream",
          "name": "stdout",
          "text": [
            "Hello world\n",
            "Hello world\n",
            "Hello world\n",
            "Hello world\n",
            "Hello world\n",
            "Hello world\n",
            "Hello world\n",
            "Hello world\n",
            "Hello world\n",
            "Hello world\n"
          ]
        }
      ]
    },
    {
      "cell_type": "markdown",
      "source": [
        "\n",
        "\n",
        "---\n",
        "m3 chapter 4 loops + class exercise #3 Part 2\n"
      ],
      "metadata": {
        "id": "ugLjCh6hEFNu"
      }
    },
    {
      "cell_type": "code",
      "source": [
        "#Challenge exercise #1\n",
        "MAX = 5\n",
        "total = 0.0\n",
        "\n",
        "print('This program calculates the sum of')\n",
        "print(f'You will enter {MAX} numbers.')\n",
        "end = int(input('How high should I go? '))\n",
        "\n",
        "for counter in range(1, MAX+1):\n",
        "  number = int(input('Enter a number: '))\n",
        "  total = total + number\n",
        "  avg = total / counter\n",
        "  print(f'The total is {total}.')\n",
        "  print(f'The average is {avg}.')"
      ],
      "metadata": {
        "colab": {
          "base_uri": "https://localhost:8080/"
        },
        "id": "__8RdWTPERkE",
        "outputId": "4d57574c-4425-4f74-942b-a7f8bdba4b2a"
      },
      "execution_count": 45,
      "outputs": [
        {
          "output_type": "stream",
          "name": "stdout",
          "text": [
            "This program calculates the sum of\n",
            "You will enter 5 numbers.\n",
            "How high should I go? 100\n",
            "Enter a number: 10\n",
            "The total is 10.0.\n",
            "The average is 10.0.\n",
            "Enter a number: 20\n",
            "The total is 30.0.\n",
            "The average is 15.0.\n",
            "Enter a number: 30\n",
            "The total is 60.0.\n",
            "The average is 20.0.\n",
            "Enter a number: 40\n",
            "The total is 100.0.\n",
            "The average is 25.0.\n",
            "Enter a number: 50\n",
            "The total is 150.0.\n",
            "The average is 30.0.\n"
          ]
        }
      ]
    },
    {
      "cell_type": "code",
      "source": [
        "#challenge exercise #2\n",
        "MAX = 100\n",
        "another = 'y'\n",
        "\n",
        "print('This program calculates your inputted number * 10')\n",
        "print(f'The final result has to be less than {MAX}.')\n",
        "\n",
        "while another == 'y' or another == 'Y':\n",
        "  number = int(input('Enter a number: '))\n",
        "  product = number * 10\n",
        "  while product > MAX:\n",
        "    print(f'The product cannot be greater than {MAX}, try again')\n",
        "    number = float(input('enter another number: '))\n",
        "    product = number * 10\n",
        "  \n",
        "  print(f'The product is {product}')\n",
        "  another = input('Would you like to enter another? (y/n) ')"
      ],
      "metadata": {
        "colab": {
          "base_uri": "https://localhost:8080/"
        },
        "id": "OWydHv_nM__g",
        "outputId": "c942010e-31d1-46f4-dd4d-7ada7d81a397"
      },
      "execution_count": 66,
      "outputs": [
        {
          "name": "stdout",
          "output_type": "stream",
          "text": [
            "This program calculates your inputted number * 10\n",
            "The final result has to be less than 100.\n",
            "Enter a number: 11\n",
            "The product cannot be greater than 100, try again\n",
            "enter another number: 10\n",
            "The product is 100.0\n",
            "Would you like to enter another? (y/n) n\n"
          ]
        }
      ]
    },
    {
      "cell_type": "code",
      "source": [
        "#challenge exercise #3\n",
        "keep_going = 'y'\n",
        "\n",
        "while keep_going == 'y':\n",
        "  day1 = float(input('Enter the number of bugs catched in day 1: '))\n",
        "  day2 = float(input('Enter the number of bugs catched in day 2: '))\n",
        "  day3 = float(input('Enter the number of bugs catched in day 3: '))\n",
        "  day4 = float(input('Enter the number of bugs catched in day 4: '))\n",
        "  day5 = float(input('Enter the number of bugs catched in day 5: '))\n",
        "  sum = day1 + day2 + day3 + day4 + day5\n",
        "  avg = sum / 5\n",
        "  print(f'The sum of bugs catched is {sum} and average is {avg}.')\n",
        "  keep_going = input('Do you want to calculate for another set of 5 days? ' + '(Enter y for yes): ')"
      ],
      "metadata": {
        "colab": {
          "base_uri": "https://localhost:8080/"
        },
        "id": "3H8Y8VLEX-HB",
        "outputId": "d64709c9-6491-4cde-9ae7-ae9ce7d26663"
      },
      "execution_count": 67,
      "outputs": [
        {
          "name": "stdout",
          "output_type": "stream",
          "text": [
            "Enter the number of bugs catched in day 1: 10\n",
            "Enter the number of bugs catched in day 2: 8\n",
            "Enter the number of bugs catched in day 3: 15\n",
            "Enter the number of bugs catched in day 4: 9\n",
            "Enter the number of bugs catched in day 5: 7\n",
            "The sum of bugs catched is 49.0 and average is 9.8.\n",
            "Do you want to calculate for another set of 5 days? (Enter y for yes): n\n"
          ]
        }
      ]
    },
    {
      "cell_type": "code",
      "source": [
        "#challenge exercise #4\n",
        "print('The treadmil burns 4.2 calories per minute')\n",
        "calories = 4.2 \n",
        "for num in range(10, 35, 5):\n",
        "  total = num * calories\n",
        "  print(f'For each {num} minute, you burn {total} calories')"
      ],
      "metadata": {
        "colab": {
          "base_uri": "https://localhost:8080/"
        },
        "id": "10hrZedzYySo",
        "outputId": "bd5a6252-aa7b-490a-af55-c1aa16d845bd"
      },
      "execution_count": 72,
      "outputs": [
        {
          "output_type": "stream",
          "name": "stdout",
          "text": [
            "The treadmil burns 4.2 calories per minute\n",
            "For each 10 minute, you burn 42.0 calories\n",
            "For each 15 minute, you burn 63.0 calories\n",
            "For each 20 minute, you burn 84.0 calories\n",
            "For each 25 minute, you burn 105.0 calories\n",
            "For each 30 minute, you burn 126.0 calories\n"
          ]
        }
      ]
    },
    {
      "cell_type": "code",
      "source": [
        "#challenge exercise #5\n",
        "print('This program asks you for each lap\\'s laptime to find the fastest, slowest, and average')\n",
        "lap = int(input('How many laps did you run?: '))\n",
        "lap_times = []\n",
        "total = 0\n",
        "\n",
        "for counter in range(1, lap+1):\n",
        "  time = int(input(f'What was this lap {counter}\\'s time?: '))\n",
        "  lap_times.append(time)\n",
        "  total+= time\n",
        "\n",
        "fastest = min(lap_times)\n",
        "slowest = max(lap_times)\n",
        "avg = total / lap\n",
        "print(f'The fastest time is {fastest}, the slowest is {slowest}, and the average is {avg}')\n"
      ],
      "metadata": {
        "colab": {
          "base_uri": "https://localhost:8080/"
        },
        "id": "V1HjKW0EZzZO",
        "outputId": "7a05562f-574b-4400-82b1-de5c0c2e4fab"
      },
      "execution_count": 78,
      "outputs": [
        {
          "output_type": "stream",
          "name": "stdout",
          "text": [
            "This program asks you for each lap's laptime to find the fastest, slowest, and average\n",
            "How many laps did you run?: 4\n",
            "What was this lap 1's time?: 10\n",
            "What was this lap 2's time?: 18\n",
            "What was this lap 3's time?: 15\n",
            "What was this lap 4's time?: 19\n",
            "The fastest time is 10, the slowest is 19, and the average is 15.5\n"
          ]
        }
      ]
    }
  ]
}