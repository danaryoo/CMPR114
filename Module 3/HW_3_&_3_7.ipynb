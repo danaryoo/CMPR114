{
  "nbformat": 4,
  "nbformat_minor": 0,
  "metadata": {
    "colab": {
      "provenance": [],
      "authorship_tag": "ABX9TyNRNhwc42dOSWEqo0S79Ixi",
      "include_colab_link": true
    },
    "kernelspec": {
      "name": "python3",
      "display_name": "Python 3"
    },
    "language_info": {
      "name": "python"
    }
  },
  "cells": [
    {
      "cell_type": "markdown",
      "metadata": {
        "id": "view-in-github",
        "colab_type": "text"
      },
      "source": [
        "<a href=\"https://colab.research.google.com/github/danaryoo/CMPR114/blob/main/HW_3_%26_3_7.ipynb\" target=\"_parent\"><img src=\"https://colab.research.google.com/assets/colab-badge.svg\" alt=\"Open In Colab\"/></a>"
      ]
    },
    {
      "cell_type": "markdown",
      "source": [
        "\n",
        "\n",
        "---\n",
        "\n",
        "\n",
        "m3 homework #3"
      ],
      "metadata": {
        "id": "aHCoQkMW_vN7"
      }
    },
    {
      "cell_type": "code",
      "execution_count": 6,
      "metadata": {
        "colab": {
          "base_uri": "https://localhost:8080/"
        },
        "id": "Z7IBUW7u_kCa",
        "outputId": "09b15a47-2ffb-48e5-ebd9-db4f5c5aad1a"
      },
      "outputs": [
        {
          "output_type": "stream",
          "name": "stdout",
          "text": [
            "How fast was the vehicle moving (in miles per hour)?: 40\n",
            "How many hours did it travel?: 3\n",
            "For each 1, the vehicle traveled 40.0 miles.\n",
            "For each 2, the vehicle traveled 80.0 miles.\n",
            "For each 3, the vehicle traveled 120.0 miles.\n"
          ]
        }
      ],
      "source": [
        "#Project #1\n",
        "\n",
        "speed = float(input('How fast was the vehicle moving (in miles per hour)?: '))\n",
        "hr = float(input('How many hours did it travel?: '))\n",
        "distance_traveled = []\n",
        "\n",
        "for each_lap in range(1, int(hr)+1):\n",
        "  distance = speed * each_lap\n",
        "  distance_traveled.append(distance)\n",
        "  print(f'For each {each_lap}, the vehicle traveled {distance} miles.')"
      ]
    },
    {
      "cell_type": "code",
      "source": [
        "#Project #2\n",
        "\n",
        "month_of_the_year = ['Jan','Feb','Mar','Apr','May','Jun','Jul','Aug','Sep','Oct','Nov','Dec']\n",
        "total_monthly_rain = 0.0\n",
        "yr = int(input('How many years?: '))\n",
        "\n",
        "#outer loop iterates once for each year\n",
        "print('Enter the rain fall for each month. \\n')\n",
        "\n",
        "for year in range(1, yr+1):\n",
        "  for i in month_of_the_year: \n",
        "    rain = float(input(f'Enter the amount of rain for {i} year #{year}: '))\n",
        "    total_monthly_rain+=rain\n",
        "total_months = int(yr) * len(month_of_the_year)\n",
        "avg_rain = total_monthly_rain / total_months\n",
        "\n",
        "print(f'There was total {total_months} months in the given timeframe')\n",
        "print(f'The total rain for the given {yr} year(s) was: {total_monthly_rain}')\n",
        "print(f'The average rainfall per month was: {avg_rain}')\n",
        "\n",
        "#inner loop iterates 12x \n",
        "#each iteration asks for inches of rainfall \n",
        "\n",
        "#output shows (1) how many months were there (2) sum of total rainfall (3) avg rainfall per month"
      ],
      "metadata": {
        "colab": {
          "base_uri": "https://localhost:8080/"
        },
        "id": "4KPLddsdGUMP",
        "outputId": "c936b0d7-37cb-4331-858c-2868df46df7f"
      },
      "execution_count": 34,
      "outputs": [
        {
          "output_type": "stream",
          "name": "stdout",
          "text": [
            "How many years?: 2\n",
            "Enter the rain fall for each month. \n",
            "\n",
            "Enter the amount of rain for Jan year #1: 1\n",
            "Enter the amount of rain for Feb year #1: 2\n",
            "Enter the amount of rain for Mar year #1: 3\n",
            "Enter the amount of rain for Apr year #1: 4\n",
            "Enter the amount of rain for May year #1: 5\n",
            "Enter the amount of rain for Jun year #1: 6\n",
            "Enter the amount of rain for Jul year #1: 7\n",
            "Enter the amount of rain for Aug year #1: 8\n",
            "Enter the amount of rain for Sep year #1: 9\n",
            "Enter the amount of rain for Oct year #1: 10\n",
            "Enter the amount of rain for Nov year #1: 11\n",
            "Enter the amount of rain for Dec year #1: 12\n",
            "Enter the amount of rain for Jan year #2: 1\n",
            "Enter the amount of rain for Feb year #2: 2\n",
            "Enter the amount of rain for Mar year #2: 3\n",
            "Enter the amount of rain for Apr year #2: 4\n",
            "Enter the amount of rain for May year #2: 5\n",
            "Enter the amount of rain for Jun year #2: 6\n",
            "Enter the amount of rain for Jul year #2: 7\n",
            "Enter the amount of rain for Aug year #2: 8\n",
            "Enter the amount of rain for Sep year #2: 9\n",
            "Enter the amount of rain for Oct year #2: 10\n",
            "Enter the amount of rain for Nov year #2: 11\n",
            "Enter the amount of rain for Dec year #2: 12\n",
            "There was total 24 months in the given timeframe\n",
            "The total rain for the given 2 year(s) was: 156.0\n",
            "The average rainfall per month was: 6.5\n"
          ]
        }
      ]
    },
    {
      "cell_type": "code",
      "source": [
        "#Project #3\n",
        "numbers = float(input('Please enter a positive number. Negative number will end the program: '))\n",
        "positive_num = []\n",
        "sum = 0\n",
        "\n",
        "while numbers >=0:\n",
        "  positive_num.append(numbers)\n",
        "  sum+= numbers\n",
        "  numbers = float(input('Please enter a positive number. Negative number will end the program: '))\n",
        "print(f'The sum of positive numbers is {sum}.')"
      ],
      "metadata": {
        "colab": {
          "base_uri": "https://localhost:8080/"
        },
        "id": "TpeZT65SNmG0",
        "outputId": "bd75d329-2868-4afb-d030-385d62fc422c"
      },
      "execution_count": 14,
      "outputs": [
        {
          "output_type": "stream",
          "name": "stdout",
          "text": [
            "Please enter a positive number. Negative number will end the program: 1\n",
            "Please enter a positive number. Negative number will end the program: 10\n",
            "Please enter a positive number. Negative number will end the program: 20\n",
            "Please enter a positive number. Negative number will end the program: -1\n",
            "The sum of positive numbers is 31.0.\n"
          ]
        }
      ]
    },
    {
      "cell_type": "markdown",
      "source": [
        "\n",
        "\n",
        "---\n",
        "m7 homework #7\n"
      ],
      "metadata": {
        "id": "We4ysM_LOFbF"
      }
    },
    {
      "cell_type": "code",
      "source": [
        "#Project #1\n",
        "\n",
        "#The get_scores function gets a series of test scores from the user and stores them in a list.\n",
        "#A reference to the list is returned.\n",
        "\n",
        "def get_scores():\n",
        "  test_scores = [] #creates an empty list\n",
        "  again = 'y' #variable to control the loop\n",
        "  while again == 'y': #gets the scores from the user and add them to the list\n",
        "    value = float(input('Enter a test score: ')) \n",
        "    test_scores.append(value) #gets the score and add it to the list \n",
        "    print('Do you want to add another score?')\n",
        "    again = input('y = yes, anything else = no: ')\n",
        "    print()\n",
        "  return test_scores #return the list \n",
        "\n",
        "  #get_total function accepts a list as an argument returns the total of the values in the list\n",
        "def get_total(value_list):\n",
        "  total = 0.0 #variable to use as an accumulator\n",
        "  for num in value_list:\n",
        "    total += num #calculate the total of the list elements\n",
        "  return total \n",
        "\n",
        "def main():\n",
        "  list_scores = get_scores()\n",
        "  total = get_total(list_scores)\n",
        "  print(f'The list of scores are {list_scores}')\n",
        "  print(f'The total of scores are {total}')\n",
        "  output = open('Test Scores', 'w')\n",
        "  output.writelines(f'The list of scores are {list_scores} \\n')\n",
        "  output.writelines(f'The total of scores are {total}')\n",
        "  output.close()\n",
        "main()"
      ],
      "metadata": {
        "colab": {
          "base_uri": "https://localhost:8080/"
        },
        "id": "ustkTYPzOM53",
        "outputId": "3ea129d6-c74c-4efa-d5e7-a4dfc7d9c11a"
      },
      "execution_count": 39,
      "outputs": [
        {
          "output_type": "stream",
          "name": "stdout",
          "text": [
            "Enter a test score: 80\n",
            "Do you want to add another score?\n",
            "y = yes, anything else = no: y\n",
            "\n",
            "Enter a test score: 90\n",
            "Do you want to add another score?\n",
            "y = yes, anything else = no: y\n",
            "\n",
            "Enter a test score: 100\n",
            "Do you want to add another score?\n",
            "y = yes, anything else = no: n\n",
            "\n",
            "The list of scores are [80.0, 90.0, 100.0]\n",
            "The total of scores are 270.0\n"
          ]
        }
      ]
    },
    {
      "cell_type": "code",
      "source": [
        "#user inputs a series of 20 numbers\n",
        "#program stores the numbers in a list\n",
        "#output = lowest, highest, total & avg\n",
        "\n",
        "series = []\n",
        "for i in range(0,20):\n",
        "  value = int(input('Enter a number: '))\n",
        "  series.append(value)\n",
        "lowest = min(series)\n",
        "highest = max(series)\n",
        "total = sum(series) \n",
        "avg = total / len(series)\n",
        "\n",
        "print(f'The lowest number is: {lowest}')\n",
        "print(f'The highest number is: {highest}')\n",
        "print(f'The total is: {total}')\n",
        "print(f'The average number is: {avg}')"
      ],
      "metadata": {
        "colab": {
          "base_uri": "https://localhost:8080/"
        },
        "id": "1mO8IWQ8SXr9",
        "outputId": "47148d3f-f23a-423e-d9a6-6c927f0a869b"
      },
      "execution_count": 3,
      "outputs": [
        {
          "output_type": "stream",
          "name": "stdout",
          "text": [
            "Enter a number: 1\n",
            "Enter a number: 2\n",
            "Enter a number: 3\n",
            "Enter a number: 4\n",
            "Enter a number: 5\n",
            "Enter a number: 6\n",
            "Enter a number: 7\n",
            "Enter a number: 8\n",
            "Enter a number: 9\n",
            "Enter a number: 10\n",
            "Enter a number: 11\n",
            "Enter a number: 12\n",
            "Enter a number: 13\n",
            "Enter a number: 14\n",
            "Enter a number: 15\n",
            "Enter a number: 16\n",
            "Enter a number: 17\n",
            "Enter a number: 18\n",
            "Enter a number: 19\n",
            "Enter a number: 20\n",
            "The lowest number is: 1\n",
            "The highest number is: 20\n",
            "The total is: 210\n",
            "The average number is: 10.5\n"
          ]
        }
      ]
    }
  ]
}