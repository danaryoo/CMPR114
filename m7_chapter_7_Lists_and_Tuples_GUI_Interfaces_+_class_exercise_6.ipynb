{
  "nbformat": 4,
  "nbformat_minor": 0,
  "metadata": {
    "colab": {
      "provenance": [],
      "authorship_tag": "ABX9TyPkDSkQBpIV/aXnfctqaOdK",
      "include_colab_link": true
    },
    "kernelspec": {
      "name": "python3",
      "display_name": "Python 3"
    },
    "language_info": {
      "name": "python"
    }
  },
  "cells": [
    {
      "cell_type": "markdown",
      "metadata": {
        "id": "view-in-github",
        "colab_type": "text"
      },
      "source": [
        "<a href=\"https://colab.research.google.com/github/danaryoo/CMPR114/blob/main/m7_chapter_7_Lists_and_Tuples_GUI_Interfaces_%2B_class_exercise_6.ipynb\" target=\"_parent\"><img src=\"https://colab.research.google.com/assets/colab-badge.svg\" alt=\"Open In Colab\"/></a>"
      ]
    },
    {
      "cell_type": "markdown",
      "source": [
        "m7 chapter 7 Lists and Tuples GUI Interfaces + class exercise #6\n",
        "\n",
        "\n",
        "---\n",
        "\n"
      ],
      "metadata": {
        "id": "uo9p6gRjeqnB"
      }
    },
    {
      "cell_type": "code",
      "execution_count": 8,
      "metadata": {
        "colab": {
          "base_uri": "https://localhost:8080/"
        },
        "id": "brXoWPNoepQH",
        "outputId": "3c094d35-3814-4db6-db93-52a4d8cf9aec"
      },
      "outputs": [
        {
          "output_type": "stream",
          "name": "stdout",
          "text": [
            "2\n",
            "total sum 30\n"
          ]
        }
      ],
      "source": [
        "#creating lists\n",
        "#evenNumbers = [2,4,6,8,10]\n",
        "#print(evenNumbers)\n",
        "#info = [\"ally\",27,1550.87]\n",
        "#print(info)\n",
        "\n",
        "#LoopNumbers = [1,2,3,4,5,6,7]\n",
        "#for n in LoopNumbers:\n",
        "#  print(n)\n",
        "\n",
        "#using a while loop and incrementing by 1\n",
        "#index = 0\n",
        "#while index <4:\n",
        "#  print(LoopNumbers[index])\n",
        "#  index+=1\n",
        "\n",
        "#the len function counts how many numbers there are in the list\n",
        "#size = len(LoopNumbers)\n",
        "#print(size)\n",
        "\n",
        "#creating lists\n",
        "sum = 0\n",
        "evenNumbers = [2,4,6,8,10]\n",
        "\n",
        "for a in evenNumbers:\n",
        "  sum+=a #adds the numbers in the list\n",
        "print (evenNumbers[0])\n",
        "print(\"total sum \" + str(sum))"
      ]
    },
    {
      "cell_type": "code",
      "source": [
        " #Project #2\n",
        " def main1():\n",
        "  prodNums=['V475','F987','Q143','R688']\n",
        "  search = input ('enter a product ')\n",
        "  if search in prodNums:\n",
        "    print(search,' was found on the list ')\n",
        "  else:\n",
        "    print(search, ' was not found on the list ')\n",
        "\n",
        "main1()\n",
        "\n",
        "def main2():\n",
        "  nameList = []\n",
        "  again = 'y'\n",
        "  while again == 'y':\n",
        "    name = input('enter a name ')\n",
        "    nameList.append(name) #appends the names in a list format\n",
        "\n",
        "    print(' do you want to add another name? ')\n",
        "    again = input('y = yes, hit any other key for NO ')\n",
        "    print()\n",
        "\n",
        "    print(' here are the names you entered ')\n",
        "    for name in nameList:\n",
        "      print(name)\n",
        "    outfile = open ('names.txt','w')\n",
        "    outfile.write(str(nameList))\n",
        "    outfile.close()\n",
        "    print('recorded the names in the list ')\n",
        "main2()"
      ],
      "metadata": {
        "colab": {
          "base_uri": "https://localhost:8080/"
        },
        "id": "xzZv5H3FoOaN",
        "outputId": "719ba6e4-7bf2-428a-8add-d665c9022417"
      },
      "execution_count": 22,
      "outputs": [
        {
          "output_type": "stream",
          "name": "stdout",
          "text": [
            "enter a product T397\n",
            "T397  was not found on the list \n",
            "enter a name T397\n",
            " do you want to add another name? \n",
            "y = yes, hit any other key for NO y\n",
            "\n",
            " here are the names you entered \n",
            "T397\n",
            "recorded the names in the list \n",
            "enter a name n\n",
            " do you want to add another name? \n",
            "y = yes, hit any other key for NO n\n",
            "\n",
            " here are the names you entered \n",
            "T397\n",
            "n\n",
            "recorded the names in the list \n"
          ]
        }
      ]
    },
    {
      "cell_type": "code",
      "source": [
        "#this program will add to the list and delete from the list\n",
        "#def main():\n",
        "#  names = ['Howard','Jamie','Jill']\n",
        "#  print(' the list before the insert or remove ')\n",
        "#  print(names)\n",
        "#  NameRemove = input(' enter the name to remove ')\n",
        "#  names.insert(0,'Joe') #insert the new name at element 0, moving or shifting element 0 to 1\n",
        "#  names.remove(NameRemove) #removes the name from the list\n",
        "#  print('the list after the insert ')\n",
        "#  print (names)\n",
        "#main()\n",
        "\n",
        "def total():\n",
        "  numbers = [1,2,3,4,5,6,7,8,9,10]\n",
        "  sum = 0\n",
        "  for value in numbers:\n",
        "    sum+=value #total the numbers in the list\n",
        "    average = sum /len(numbers)\n",
        "    print('the total is ',sum,' the average is ', average)\n",
        "    outfile = open('numbers.txt','w')\n",
        "    outfile.write(str(numbers))\n",
        "    outfile.close()\n",
        "    print('recorded numbers are in the list ')\n",
        "total()"
      ],
      "metadata": {
        "colab": {
          "base_uri": "https://localhost:8080/"
        },
        "id": "O2ozhquUqYNN",
        "outputId": "d3ae2bdc-3740-41c1-cbca-6c57ac6dafc0"
      },
      "execution_count": 25,
      "outputs": [
        {
          "output_type": "stream",
          "name": "stdout",
          "text": [
            "the total is  1  the average is  0.1\n",
            "recorded numbers are in the list \n",
            "the total is  3  the average is  0.3\n",
            "recorded numbers are in the list \n",
            "the total is  6  the average is  0.6\n",
            "recorded numbers are in the list \n",
            "the total is  10  the average is  1.0\n",
            "recorded numbers are in the list \n",
            "the total is  15  the average is  1.5\n",
            "recorded numbers are in the list \n",
            "the total is  21  the average is  2.1\n",
            "recorded numbers are in the list \n",
            "the total is  28  the average is  2.8\n",
            "recorded numbers are in the list \n",
            "the total is  36  the average is  3.6\n",
            "recorded numbers are in the list \n",
            "the total is  45  the average is  4.5\n",
            "recorded numbers are in the list \n",
            "the total is  55  the average is  5.5\n",
            "recorded numbers are in the list \n"
          ]
        }
      ]
    },
    {
      "cell_type": "code",
      "source": [
        "#this program will ask for the week sales to get the total and store it in a list\n",
        "def main():\n",
        "  days_in_the_week = ['Monday','Tuesday','Wednesday','Thursday','Friday','Saturday','Sunday']\n",
        "  week_sales = []\n",
        "\n",
        "  print('Enter the sales for the week. \\n')\n",
        "\n",
        "  index = 0\n",
        "  for i in days_in_the_week:\n",
        "    sale = float(input(f'Enter the sales for {i}: '))\n",
        "    week_sales.insert(index, sale)\n",
        "    index+=1\n",
        "  total_sales = total(week_sales)\n",
        "  print(f'The total sales of the week is ${total_sales:,.2f}')\n",
        "\n",
        "  write('week_sales.txt', week_sales, total_sales)\n",
        "\n",
        "def total(numbers):\n",
        "  sum = 0\n",
        "  for value in numbers:\n",
        "    sum += int(value or 0)\n",
        "  return sum\n",
        "\n",
        "def write(name, sales, total):\n",
        "  output = open(name, 'w')\n",
        "  for money in sales:\n",
        "    output.writelines(str(money) + '\\n')\n",
        "  output.writelines(f'Total sales: ${total:,.2f}')\n",
        "\n",
        "main()\n"
      ],
      "metadata": {
        "colab": {
          "base_uri": "https://localhost:8080/"
        },
        "id": "mjU6yo2Wr1Bd",
        "outputId": "5823a5e5-e91d-42ae-d50f-5e2bdd486e8e"
      },
      "execution_count": 26,
      "outputs": [
        {
          "output_type": "stream",
          "name": "stdout",
          "text": [
            "Enter the sales for the week. \n",
            "\n",
            "Enter the sales for Monday: 1000\n",
            "Enter the sales for Tuesday: 1400\n",
            "Enter the sales for Wednesday: 1800\n",
            "Enter the sales for Thursday: 2100\n",
            "Enter the sales for Friday: 29\n",
            "Enter the sales for Saturday: 150\n",
            "Enter the sales for Sunday: 990\n",
            "The total sales of the week is $7,469.00\n"
          ]
        }
      ]
    },
    {
      "cell_type": "code",
      "source": [
        "#this program will ask for the monthly rainfall to get the total and store it in a list\n",
        "def main():\n",
        "  month_of_the_year = ['Jan','Feb','Mar','Apr','May','Jun','Jul','Aug','Sep','Oct','Nov','Dec']\n",
        "  monthly_rain = []\n",
        "\n",
        "  print('Enter the rain fall for each month. \\n')\n",
        "\n",
        "  index = 0\n",
        "  for i in month_of_the_year:\n",
        "    rain = float(input(f'Enter the amount of rain for {i}: '))\n",
        "    monthly_rain.insert(index, rain)\n",
        "    index+=1\n",
        "  total_rain = total(monthly_rain)\n",
        "  average_rain = total_rain/len(monthly_rain)\n",
        "  less_rain = min(monthly_rain)\n",
        "  most_rain = max(monthly_rain)\n",
        "  most_rain_index = monthly_rain.index(most_rain)\n",
        "\n",
        "  print(f'The total rain in the year was: {total_rain}')\n",
        "  print(f'The average rain in each month is: {average_rain:.2f}')\n",
        "  print(f'The month with the least rain was {month_of_the_year[monthly_rain.index(less_rain)]} with {less_rain} inches of rain.')\n",
        "  print(f'The month with the most rain was {month_of_the_year[monthly_rain.index(most_rain)]} with {most_rain} inches of rain.')\n",
        "\n",
        "  write('yearly_rain.txt', monthly_rain, total_rain, month_of_the_year)\n",
        "\n",
        "def total(numbers):\n",
        "  sum = 0\n",
        "  for value in numbers:\n",
        "    sum += int(value or 0)\n",
        "  return sum\n",
        "\n",
        "def write(name, monthly_rain, total, month_of_the_year):\n",
        "  index = 0\n",
        "  output = open(name, 'w')\n",
        "  for rain in monthly_rain:\n",
        "    output.writelines(f'{month_of_the_year[index]}: {rain} inches\\n')\n",
        "    index += 1\n",
        "  output.writelines(f'Total rain: {total:2f} inches\\n')\n",
        "  output.writelines(f'The average rain on this year was {total/len(month_of_the_year)} inches\\n')\n",
        "  less_rain = min(monthly_rain)\n",
        "  less_rain_index = monthly_rain.index(less_rain)\n",
        "  most_rain = max(monthly_rain)\n",
        "  most_rain_index = monthly_rain.index(most_rain)\n",
        "  print(f'The month with the least rain was {month_of_the_year[less_rain_index]} with {less_rain} inches of rain.')\n",
        "  print(f'The month with the most rain was {month_of_the_year[most_rain_index]} with {most_rain} inches of rain.')\n",
        "\n",
        "main()"
      ],
      "metadata": {
        "colab": {
          "base_uri": "https://localhost:8080/"
        },
        "id": "d4nByYSstXts",
        "outputId": "3a842379-47a8-4d51-eee9-029d78592518"
      },
      "execution_count": 31,
      "outputs": [
        {
          "output_type": "stream",
          "name": "stdout",
          "text": [
            "Enter the rain fall for each month. \n",
            "\n",
            "Enter the amount of rain for Jan: 10\n",
            "Enter the amount of rain for Feb: 20\n",
            "Enter the amount of rain for Mar: 30\n",
            "Enter the amount of rain for Apr: 40\n",
            "Enter the amount of rain for May: 50\n",
            "Enter the amount of rain for Jun: 60\n",
            "Enter the amount of rain for Jul: 70\n",
            "Enter the amount of rain for Aug: 80\n",
            "Enter the amount of rain for Sep: 90\n",
            "Enter the amount of rain for Oct: 100\n",
            "Enter the amount of rain for Nov: 110\n",
            "Enter the amount of rain for Dec: 120\n",
            "The total rain in the year was: 780\n",
            "The average rain in each month is: 65.00\n",
            "The month with the least rain was Jan with 10.0 inches of rain.\n",
            "The month with the most rain was Dec with 120.0 inches of rain.\n",
            "The month with the least rain was Jan with 10.0 inches of rain.\n",
            "The month with the most rain was Dec with 120.0 inches of rain.\n"
          ]
        }
      ]
    }
  ]
}